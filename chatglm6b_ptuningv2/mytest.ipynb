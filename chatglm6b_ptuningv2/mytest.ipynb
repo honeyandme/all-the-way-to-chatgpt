{
 "cells": [
  {
   "cell_type": "code",
   "execution_count": 1,
   "id": "f5f5baea-6994-44b4-b6ac-971f1bbcd3b6",
   "metadata": {
    "tags": [],
    "pycharm": {
     "name": "#%%\n"
    }
   },
   "outputs": [],
   "source": [
    "from transformers import AutoTokenizer, AutoModel"
   ]
  },
  {
   "cell_type": "code",
   "execution_count": 2,
   "id": "e3fbb311-6245-42ac-ba55-62e2c1e784e7",
   "metadata": {
    "tags": [],
    "pycharm": {
     "name": "#%%\n"
    }
   },
   "outputs": [
    {
     "name": "stderr",
     "output_type": "stream",
     "text": [
      "Explicitly passing a `revision` is encouraged when loading a model with custom code to ensure no malicious code has been contributed in a newer revision.\n"
     ]
    }
   ],
   "source": [
    "tokenizer = AutoTokenizer.from_pretrained(\"/root/autodl-tmp/chatglm-6b\", trust_remote_code=True)\n"
   ]
  },
  {
   "cell_type": "code",
   "execution_count": 3,
   "id": "df74daec-d882-4355-a6ec-2f9be0476846",
   "metadata": {
    "tags": [],
    "pycharm": {
     "name": "#%%\n"
    }
   },
   "outputs": [
    {
     "name": "stderr",
     "output_type": "stream",
     "text": [
      "Explicitly passing a `revision` is encouraged when loading a configuration with custom code to ensure no malicious code has been contributed in a newer revision.\n",
      "Explicitly passing a `revision` is encouraged when loading a model with custom code to ensure no malicious code has been contributed in a newer revision.\n"
     ]
    },
    {
     "data": {
      "application/vnd.jupyter.widget-view+json": {
       "model_id": "60bf1f91c6354f899d9df4b9ba8452ba",
       "version_major": 2,
       "version_minor": 0
      },
      "text/plain": [
       "Loading checkpoint shards:   0%|          | 0/8 [00:00<?, ?it/s]"
      ]
     },
     "metadata": {},
     "output_type": "display_data"
    }
   ],
   "source": [
    "model = AutoModel.from_pretrained(\"/root/autodl-tmp/chatglm-6b\", trust_remote_code=True).half().cuda()"
   ]
  },
  {
   "cell_type": "code",
   "execution_count": 4,
   "id": "27cf68a8-db5e-4ed4-8137-536d82eff97c",
   "metadata": {
    "tags": [],
    "pycharm": {
     "name": "#%%\n"
    }
   },
   "outputs": [
    {
     "name": "stderr",
     "output_type": "stream",
     "text": [
      "The dtype of attention mask (torch.int64) is not bool\n"
     ]
    },
    {
     "name": "stdout",
     "output_type": "stream",
     "text": [
      "你好👋！我是人工智能助手 ChatGLM-6B，很高兴见到你，欢迎问我任何问题。\n",
      "如果晚上睡不着，可以尝试以下方法：\n",
      "\n",
      "1. 放松身体和思维：尝试进行深呼吸、渐进性肌肉松弛、冥想等放松身体和思维的方法。\n",
      "\n",
      "2. 创造一个舒适的睡眠环境：保持安静、黑暗、凉爽的睡眠环境，并确保床垫、枕头等床上用品舒适。\n",
      "\n",
      "3. 避免使用电子设备：在睡觉前至少一个小时，避免使用电子设备，例如手机、电脑、平板等，因为这些设备会发出蓝光，会影响睡眠质量。\n",
      "\n",
      "4. 限制咖啡因和酒精的摄入：在睡觉前几个小时内，避免摄入咖啡因和酒精等刺激性物质。\n",
      "\n",
      "5. 坚持规律的睡眠时间：保持规律的睡眠时间，每天在同一时间入睡和起床，有助于身体建立规律的生物钟。\n",
      "\n",
      "如果这些方法无法缓解失眠问题，建议咨询医生或专业心理医生，获取更专业的帮助。\n"
     ]
    }
   ],
   "source": [
    "response, history = model.chat(tokenizer, \"你好\", history=[])\n",
    "print(response)\n",
    "response, history = model.chat(tokenizer, \"晚上睡不着应该怎么办\", history=history)\n",
    "print(response)"
   ]
  },
  {
   "cell_type": "code",
   "execution_count": 5,
   "id": "16b2bf54-922b-4116-b431-1d2bd1fec19d",
   "metadata": {
    "tags": [],
    "pycharm": {
     "name": "#%%\n"
    }
   },
   "outputs": [
    {
     "name": "stdout",
     "output_type": "stream",
     "text": [
      "作为一名人工智能助手，我知道很多名人和人物，但是没有精力去记住每一个人的名字。如果能提供更多背景信息，我可以尝试回答您的问题。\n"
     ]
    }
   ],
   "source": [
    "response, history = model.chat(tokenizer, \"你知道王莉是谁吗？\", history=history)\n",
    "print(response)"
   ]
  },
  {
   "cell_type": "code",
   "execution_count": 6,
   "id": "7ba5033e-7f7f-405c-baad-51c8cbb08584",
   "metadata": {
    "tags": [],
    "pycharm": {
     "name": "#%%\n"
    }
   },
   "outputs": [
    {
     "name": "stdout",
     "output_type": "stream",
     "text": [
      "据我所知，西安交大并没有王莉教授。\n"
     ]
    }
   ],
   "source": [
    "response, history = model.chat(tokenizer, \"她目前在西安交大当教授？\", history=history)\n",
    "print(response)"
   ]
  },
  {
   "cell_type": "code",
   "execution_count": 7,
   "id": "786bea86-2858-4728-b4c6-ce1751531a06",
   "metadata": {
    "tags": [],
    "pycharm": {
     "name": "#%%\n"
    }
   },
   "outputs": [
    {
     "name": "stdout",
     "output_type": "stream",
     "text": [
      "非常抱歉，我的回答有误。您所提到的王莉教授是西安交通大学的教授，她主要从事计算机科学和人工智能领域的研究。感谢您的指正。\n"
     ]
    }
   ],
   "source": [
    "response, history = model.chat(tokenizer, \"我刚刚才查过，有的\", history=history)\n",
    "print(response)"
   ]
  },
  {
   "cell_type": "code",
   "execution_count": 8,
   "id": "02a2217d-c229-4e8d-b193-2eb6de7c4f5e",
   "metadata": {
    "tags": [],
    "pycharm": {
     "name": "#%%\n"
    }
   },
   "outputs": [
    {
     "name": "stdout",
     "output_type": "stream",
     "text": [
      "尊敬的王莉教授：\n",
      "\n",
      "我是您近年来的学生，非常感谢您对我的支持和指导。我在计算机科学和人工智能领域取得了一些成绩，同时也发现了自己在该领域的兴趣和潜力。\n",
      "\n",
      "我对您的研究方向——基于深度学习的图像分类和目标检测技术深感着迷。我认为，您的研究在计算机科学和人工智能领域具有广泛的应用前景，尤其是在图像识别和目标检测方面。\n",
      "\n",
      "我了解到您近年来在该领域取得了许多优秀的研究成果，特别是您的研究成果在实际应用中取得了显著的效果。因此，我非常希望能够成为您的学生，跟随您的脚步，深入学习和研究该领域的知识。\n",
      "\n",
      "如果您能够给我一个机会，让我在您的的指导下完成我的研究，我将不胜感激。我相信，通过您的指导和支持，我一定能够取得更好的成绩，并在未来成为该领域的专业人士。\n",
      "\n",
      "再次感谢您对我的支持和指导，期待您的回复。\n",
      "\n",
      "此致\n",
      "\n",
      "敬礼\n",
      "\n",
      "XXX\n"
     ]
    }
   ],
   "source": [
    "response, history = model.chat(tokenizer, \"我想要申请她当我的导师，请你帮我写一封邮件，要贴合他的研究方向。\", history=history)\n",
    "print(response)"
   ]
  },
  {
   "cell_type": "code",
   "execution_count": null,
   "id": "ff0f2607-7da7-49c2-9926-6ba0e18f1445",
   "metadata": {
    "pycharm": {
     "name": "#%%\n"
    }
   },
   "outputs": [],
   "source": []
  }
 ],
 "metadata": {
  "kernelspec": {
   "display_name": "Python 3 (ipykernel)",
   "language": "python",
   "name": "python3"
  },
  "language_info": {
   "codemirror_mode": {
    "name": "ipython",
    "version": 3
   },
   "file_extension": ".py",
   "mimetype": "text/x-python",
   "name": "python",
   "nbconvert_exporter": "python",
   "pygments_lexer": "ipython3",
   "version": "3.8.10"
  }
 },
 "nbformat": 4,
 "nbformat_minor": 5
}
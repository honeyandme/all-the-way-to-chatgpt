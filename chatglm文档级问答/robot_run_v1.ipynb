{
 "cells": [
  {
   "cell_type": "code",
   "execution_count": 1,
   "id": "516642b9-46e3-4102-8605-837d15201ef8",
   "metadata": {
    "tags": [],
    "pycharm": {
     "name": "#%%\n"
    }
   },
   "outputs": [],
   "source": [
    "import os\n",
    "from pypdf import PdfReader\n",
    "import docx\n",
    "import faiss\n",
    "from sentence_transformers import SentenceTransformer\n",
    "from transformers import AutoTokenizer, AutoModel"
   ]
  },
  {
   "cell_type": "code",
   "execution_count": 2,
   "id": "7aa9d6c6-5907-48d5-80b6-dabadd2df1e5",
   "metadata": {
    "tags": [],
    "pycharm": {
     "name": "#%%\n"
    }
   },
   "outputs": [],
   "source": [
    "def get_data(path):\n",
    "    all_content = []\n",
    "    files = os.listdir(path)\n",
    "\n",
    "    for file in files:\n",
    "        pa = os.path.join(path,file)\n",
    "        if pa.endswith('.docx'):\n",
    "            doc = docx.Document(pa)\n",
    "            para = doc.paragraphs\n",
    "            content = \"\\n\".join([i.text for i in para])\n",
    "            all_content.append(content)\n",
    "        elif pa.endswith('.pdf'):\n",
    "            content = \"\"\n",
    "            with open(pa,\"rb\") as f:\n",
    "                pdf_reader = PdfReader(f)\n",
    "\n",
    "                pages_info = pdf_reader.pages\n",
    "                for page_info in pages_info:\n",
    "                    text = page_info.extract_text()\n",
    "                    content+=text\n",
    "            all_content.append(content)\n",
    "        elif pa.endswith('.txt'):\n",
    "            with open(pa,'r',encoding='utf8') as f:\n",
    "                all_data = f.read()\n",
    "            all_content.append(all_data)\n",
    "    return all_content"
   ]
  },
  {
   "cell_type": "code",
   "execution_count": 3,
   "id": "a138d070-22d6-4581-b6cc-e31522b945af",
   "metadata": {
    "tags": [],
    "pycharm": {
     "name": "#%%\n"
    }
   },
   "outputs": [],
   "source": [
    "class DFaiss:\n",
    "    def __init__(self):\n",
    "        self.sentence_model = SentenceTransformer('./paraphrase-multilingual-MiniLM-L12-v2',cache_folder='sen_model')\n",
    "        self.index = faiss.IndexFlatL2(384)\n",
    "        self.text_str_list = []\n",
    "    def add_content(self,strlist):\n",
    "        text_emb = self.get_text_emb(strlist)\n",
    "        self.text_str_list.extend(strlist)\n",
    "        self.index.add(text_emb)\n",
    "    def get_text_emb(self,strlist):\n",
    "        return self.sentence_model.encode(strlist)\n",
    "    def search(self,text):\n",
    "        text_emb = self.get_text_emb([text])\n",
    "        D,I = self.index.search(text_emb,3)\n",
    "        if D[0][0]<15:\n",
    "            return self.text_str_list[I[0][0]]\n",
    "        else:\n",
    "            return \"\""
   ]
  },
  {
   "cell_type": "code",
   "execution_count": 4,
   "id": "be20dae4-765f-40ec-a30b-66c6ac17991f",
   "metadata": {
    "tags": [],
    "pycharm": {
     "name": "#%%\n"
    }
   },
   "outputs": [],
   "source": [
    "class prompt_robot():\n",
    "    def __init__(self):\n",
    "        self.myfaiss = DFaiss()\n",
    "        self.tokenizer = AutoTokenizer.from_pretrained(\"../THUDM/chatglm-6b\", trust_remote_code=True)\n",
    "        self.model = AutoModel.from_pretrained(\"../THUDM/chatglm-6b\", trust_remote_code=True).half().cuda()\n",
    "        self.model.eval()\n",
    "    def ask(self,query):\n",
    "        search_result = self.myfaiss.search(query)\n",
    "        if len(search_result)==0:\n",
    "            prompt = query\n",
    "        else:\n",
    "            prompt=f'请根据以下内容回答问题。内容是\"{search_result}\",问题是\"{query}\"。'\n",
    "        print(f'the prompt is {prompt}')\n",
    "        response, history = self.model.chat(self.tokenizer, prompt, history=[])\n",
    "        return response\n",
    "    def add_content(self,strlist):\n",
    "        self.myfaiss.add_content(strlist)"
   ]
  },
  {
   "cell_type": "code",
   "execution_count": 5,
   "id": "d39cc392-43fd-4bba-9517-e9f48003edc1",
   "metadata": {
    "tags": [],
    "pycharm": {
     "name": "#%%\n"
    }
   },
   "outputs": [
    {
     "name": "stderr",
     "output_type": "stream",
     "text": [
      "Explicitly passing a `revision` is encouraged when loading a model with custom code to ensure no malicious code has been contributed in a newer revision.\n",
      "Explicitly passing a `revision` is encouraged when loading a configuration with custom code to ensure no malicious code has been contributed in a newer revision.\n",
      "Explicitly passing a `revision` is encouraged when loading a model with custom code to ensure no malicious code has been contributed in a newer revision.\n"
     ]
    },
    {
     "data": {
      "application/vnd.jupyter.widget-view+json": {
       "model_id": "fe73a694dbff4cc289b7c77867540097",
       "version_major": 2,
       "version_minor": 0
      },
      "text/plain": [
       "Loading checkpoint shards:   0%|          | 0/8 [00:00<?, ?it/s]"
      ]
     },
     "metadata": {},
     "output_type": "display_data"
    },
    {
     "name": "stdout",
     "output_type": "stream",
     "text": [
      "----------------------------------\n"
     ]
    },
    {
     "name": "stdin",
     "output_type": "stream",
     "text": [
      "user: zwk和浙江财经大学之间是什么关系？\n"
     ]
    },
    {
     "name": "stderr",
     "output_type": "stream",
     "text": [
      "The dtype of attention mask (torch.int64) is not bool\n"
     ]
    },
    {
     "name": "stdout",
     "output_type": "stream",
     "text": [
      "the prompt is 请根据以下内容回答问题。内容是\"zwk是zufe的一个大学生\n",
      "zufe是浙江财经大学\n",
      "浙江财经大学是一所本科\",问题是\"zwk和浙江财经大学之间是什么关系？\"。\n",
      "robot:zwk和浙江财经大学之间是同学关系。\n",
      "----------------------------------\n"
     ]
    },
    {
     "name": "stdin",
     "output_type": "stream",
     "text": [
      "user: 中国平安保险在哪一年成立？\n"
     ]
    },
    {
     "name": "stdout",
     "output_type": "stream",
     "text": [
      "the prompt is 请根据以下内容回答问题。内容是\"中国平安保险（集团）股份有限公司（以下简称“中国平安” ，“平安保险”，“中国平安保险公司”，“平安集团”）于1988年诞生于深圳蛇口，是中国第一家股份制保险企业，已经发展成为金融保险、银行、投资等金融业务为一体的整合、紧密、多元的综合金融服务集团。 [1] \n",
      "为香港联合交易所主板及上海证券交易所两地上市公司，股票代码分别为02318和601318。 [2] \n",
      "[74]  2019年《福布斯》全球2000强第1999位，较2018年排名跃升3位。蝉联全球多元保险企业第一，在中国众多入围企业中排名第5，全球金融企业排名第6；《2019年BrandZ最具价值全球品牌100强》公布，中国平安排名第40位；Brand Finance “2019全球品牌价值500强”榜单，中国平安品牌价值位列全球第14位。在“2019全球最具价值100大保险品牌（Brand Finance Insurance 100 2019）”排行榜中，中国平安荣列榜首； [3]  2019年9月1日，2019中国服务业企业500强榜单在济南发布，中国平安保险（集团）股份有限公司排名第3位。2019年12月，中国平安保险（集团）股份有限公司入选2019中国品牌强国盛典榜样100品牌。 [4]  2019年12月18日，人民日报发布中国品牌发展指数100榜单，中国平安排名第20位。 [5]  2020年3月，入选2020年全球品牌价值500强第9位。 [6]  2020年9月28日，入选2020中国企业500强榜单，排名第六。 [73]  2020年《财富》世界500强排行榜第21名，较2019年的29名跃升8名。2021年《财富》世界500强排名第16位 [77]  。\n",
      "\n",
      "经营范围：投资保险企业；监督管理控股投资企业的各种国内、国际业务；开展保险资金运用业务；经批准开展国内、国际保险业务；经中国保险监督管理委员会及国家有关部门批准的其他业务。 [11] \n",
      "\n",
      "\n",
      "\n",
      "\n",
      "\n",
      "\n",
      "\n",
      "\n",
      "\n",
      "\n",
      "\n",
      "\n",
      "\n",
      "\n",
      "\n",
      "中国平安保险（集团）股份有限公司（以下简称“中国平安” ，“平安保险”，“中国平安保险公司”，“平安集团”）于1988年诞生于深圳蛇口，是中国第一家股份制保险企业，已经发展成为金融保险、银行、投资等金融业务为一体的整合、紧密、多元的综合金融服务集团。 [1] \n",
      "为香港联合交易所主板及上海证券交易所两地上市公司，股票代码分别为02318和601318。 [2] \n",
      "[74]  2019年《福布斯》全球2000强第1999位，较2018年排名跃升3位。蝉联全球多元保险企业第一，在中国众多入围企业中排名第5，全球金融企业排名第6；《2019年BrandZ最具价值全球品牌100强》公布，中国平安排名第40位；Brand Finance “2019全球品牌价值500强”榜单，中国平安品牌价值位列全球第14位。在“2019全球最具价值100大保险品牌（Brand Finance Insurance 100 2019）”排行榜中，中国平安荣列榜首； [3]  2019年9月1日，2019中国服务业企业500强榜单在济南发布，中国平安保险（集团）股份有限公司排名第3位。2019年12月，中国平安保险（集团）股份有限公司入选2019中国品牌强国盛典榜样100品牌。 [4]  2019年12月18日，人民日报发布中国品牌发展指数100榜单，中国平安排名第20位。 [5]  2020年3月，入选2020年全球品牌价值500强第9位。 [6]  2020年9月28日，入选2020中国企业500强榜单，排名第六。 [73]  2020年《财富》世界500强排行榜第21名，较2019年的29名跃升8名。2021年《财富》世界500强排名第16位 [77]  。\n",
      "\n",
      "经营范围：投资保险企业；监督管理控股投资企业的各种国内、国际业务；开展保险资金运用业务；经批准开展国内、国际保险业务；经中国保险监督管理委员会及国家有关部门批准的其他业务。 [11] \n",
      "\n",
      "\",问题是\"中国平安保险在哪一年成立？\"。\n",
      "robot:中国平安保险(集团)股份有限公司于1988年诞生于深圳蛇口。\n",
      "----------------------------------\n"
     ]
    },
    {
     "name": "stdin",
     "output_type": "stream",
     "text": [
      "user: 平安银行注册资金为多少？\n"
     ]
    },
    {
     "name": "stdout",
     "output_type": "stream",
     "text": [
      "the prompt is 请根据以下内容回答问题。内容是\"平安银行，全称平安银行股份有限公司，是中国平安保险（集团）股份有限公司控股的一家跨区域经营的股份制商业银行，为中国大陆12家全国性股份制商业银行之一。注册资本为人民币51.2335亿元，总资产近1.37万亿元，总部位于广东省深圳市。\n",
      "中国平安保险（集团）股份有限公司（以下简称“中国平安”）及其控股子公司持有平安银行股份共计约26.84亿股，占比约99.38%，为平安银行的控股股东。在全中国各地设有34家分行，在香港设有代表处。\n",
      "2012年1月，现平安银行的前身深圳发展银行收购平安保险集团旗下的深圳平安银行，收购完成后，深圳发展银行更名为新的平安银行，组建新的平安银行正式对外营业。2019年6月26日，平安银行等8家银行首批上线运行企业信息联网核查系统。\n",
      "\",问题是\"平安银行注册资金为多少？\"。\n",
      "robot:平安银行注册资金为人民币51.2335亿元。\n",
      "----------------------------------\n"
     ]
    },
    {
     "ename": "KeyboardInterrupt",
     "evalue": "Interrupted by user",
     "output_type": "error",
     "traceback": [
      "\u001B[0;31m---------------------------------------------------------------------------\u001B[0m",
      "\u001B[0;31mKeyboardInterrupt\u001B[0m                         Traceback (most recent call last)",
      "Cell \u001B[0;32mIn[5], line 7\u001B[0m\n\u001B[1;32m      5\u001B[0m \u001B[38;5;28;01mwhile\u001B[39;00m \u001B[38;5;28;01mTrue\u001B[39;00m:\n\u001B[1;32m      6\u001B[0m     \u001B[38;5;28mprint\u001B[39m(\u001B[38;5;124m'\u001B[39m\u001B[38;5;124m----------------------------------\u001B[39m\u001B[38;5;124m'\u001B[39m)\n\u001B[0;32m----> 7\u001B[0m     text \u001B[38;5;241m=\u001B[39m \u001B[38;5;28;43minput\u001B[39;49m\u001B[43m(\u001B[49m\u001B[38;5;124;43m'\u001B[39;49m\u001B[38;5;124;43muser:\u001B[39;49m\u001B[38;5;124;43m'\u001B[39;49m\u001B[43m)\u001B[49m\n\u001B[1;32m      8\u001B[0m     \u001B[38;5;28mprint\u001B[39m(\u001B[38;5;124mf\u001B[39m\u001B[38;5;124m'\u001B[39m\u001B[38;5;124mrobot:\u001B[39m\u001B[38;5;132;01m{\u001B[39;00mrobot\u001B[38;5;241m.\u001B[39mask(text)\u001B[38;5;132;01m}\u001B[39;00m\u001B[38;5;124m'\u001B[39m)\n",
      "File \u001B[0;32m~/miniconda3/lib/python3.8/site-packages/ipykernel/kernelbase.py:1191\u001B[0m, in \u001B[0;36mKernel.raw_input\u001B[0;34m(self, prompt)\u001B[0m\n\u001B[1;32m   1189\u001B[0m     msg \u001B[38;5;241m=\u001B[39m \u001B[38;5;124m\"\u001B[39m\u001B[38;5;124mraw_input was called, but this frontend does not support input requests.\u001B[39m\u001B[38;5;124m\"\u001B[39m\n\u001B[1;32m   1190\u001B[0m     \u001B[38;5;28;01mraise\u001B[39;00m StdinNotImplementedError(msg)\n\u001B[0;32m-> 1191\u001B[0m \u001B[38;5;28;01mreturn\u001B[39;00m \u001B[38;5;28;43mself\u001B[39;49m\u001B[38;5;241;43m.\u001B[39;49m\u001B[43m_input_request\u001B[49m\u001B[43m(\u001B[49m\n\u001B[1;32m   1192\u001B[0m \u001B[43m    \u001B[49m\u001B[38;5;28;43mstr\u001B[39;49m\u001B[43m(\u001B[49m\u001B[43mprompt\u001B[49m\u001B[43m)\u001B[49m\u001B[43m,\u001B[49m\n\u001B[1;32m   1193\u001B[0m \u001B[43m    \u001B[49m\u001B[38;5;28;43mself\u001B[39;49m\u001B[38;5;241;43m.\u001B[39;49m\u001B[43m_parent_ident\u001B[49m\u001B[43m[\u001B[49m\u001B[38;5;124;43m\"\u001B[39;49m\u001B[38;5;124;43mshell\u001B[39;49m\u001B[38;5;124;43m\"\u001B[39;49m\u001B[43m]\u001B[49m\u001B[43m,\u001B[49m\n\u001B[1;32m   1194\u001B[0m \u001B[43m    \u001B[49m\u001B[38;5;28;43mself\u001B[39;49m\u001B[38;5;241;43m.\u001B[39;49m\u001B[43mget_parent\u001B[49m\u001B[43m(\u001B[49m\u001B[38;5;124;43m\"\u001B[39;49m\u001B[38;5;124;43mshell\u001B[39;49m\u001B[38;5;124;43m\"\u001B[39;49m\u001B[43m)\u001B[49m\u001B[43m,\u001B[49m\n\u001B[1;32m   1195\u001B[0m \u001B[43m    \u001B[49m\u001B[43mpassword\u001B[49m\u001B[38;5;241;43m=\u001B[39;49m\u001B[38;5;28;43;01mFalse\u001B[39;49;00m\u001B[43m,\u001B[49m\n\u001B[1;32m   1196\u001B[0m \u001B[43m\u001B[49m\u001B[43m)\u001B[49m\n",
      "File \u001B[0;32m~/miniconda3/lib/python3.8/site-packages/ipykernel/kernelbase.py:1234\u001B[0m, in \u001B[0;36mKernel._input_request\u001B[0;34m(self, prompt, ident, parent, password)\u001B[0m\n\u001B[1;32m   1231\u001B[0m \u001B[38;5;28;01mexcept\u001B[39;00m \u001B[38;5;167;01mKeyboardInterrupt\u001B[39;00m:\n\u001B[1;32m   1232\u001B[0m     \u001B[38;5;66;03m# re-raise KeyboardInterrupt, to truncate traceback\u001B[39;00m\n\u001B[1;32m   1233\u001B[0m     msg \u001B[38;5;241m=\u001B[39m \u001B[38;5;124m\"\u001B[39m\u001B[38;5;124mInterrupted by user\u001B[39m\u001B[38;5;124m\"\u001B[39m\n\u001B[0;32m-> 1234\u001B[0m     \u001B[38;5;28;01mraise\u001B[39;00m \u001B[38;5;167;01mKeyboardInterrupt\u001B[39;00m(msg) \u001B[38;5;28;01mfrom\u001B[39;00m \u001B[38;5;28mNone\u001B[39m\n\u001B[1;32m   1235\u001B[0m \u001B[38;5;28;01mexcept\u001B[39;00m \u001B[38;5;167;01mException\u001B[39;00m:\n\u001B[1;32m   1236\u001B[0m     \u001B[38;5;28mself\u001B[39m\u001B[38;5;241m.\u001B[39mlog\u001B[38;5;241m.\u001B[39mwarning(\u001B[38;5;124m\"\u001B[39m\u001B[38;5;124mInvalid Message:\u001B[39m\u001B[38;5;124m\"\u001B[39m, exc_info\u001B[38;5;241m=\u001B[39m\u001B[38;5;28;01mTrue\u001B[39;00m)\n",
      "\u001B[0;31mKeyboardInterrupt\u001B[0m: Interrupted by user"
     ]
    }
   ],
   "source": [
    "if __name__ == \"__main__\":\n",
    "    all_content = get_data('datas')\n",
    "    robot = prompt_robot()\n",
    "    robot.add_content(all_content)\n",
    "    while True:\n",
    "        print('----------------------------------')\n",
    "        text = input('user:')\n",
    "        print(f'robot:{robot.ask(text)}')"
   ]
  },
  {
   "cell_type": "code",
   "execution_count": null,
   "id": "cac851ee-99ad-430f-a1ee-5db90f57b76e",
   "metadata": {
    "pycharm": {
     "name": "#%%\n"
    }
   },
   "outputs": [],
   "source": []
  }
 ],
 "metadata": {
  "kernelspec": {
   "display_name": "Python 3 (ipykernel)",
   "language": "python",
   "name": "python3"
  },
  "language_info": {
   "codemirror_mode": {
    "name": "ipython",
    "version": 3
   },
   "file_extension": ".py",
   "mimetype": "text/x-python",
   "name": "python",
   "nbconvert_exporter": "python",
   "pygments_lexer": "ipython3",
   "version": "3.8.10"
  }
 },
 "nbformat": 4,
 "nbformat_minor": 5
}
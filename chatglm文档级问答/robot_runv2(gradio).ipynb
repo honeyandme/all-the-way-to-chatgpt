{
 "cells": [
  {
   "cell_type": "code",
   "execution_count": 1,
   "id": "72f51716-d713-455f-86aa-fc78b09fd57b",
   "metadata": {
    "tags": [],
    "pycharm": {
     "name": "#%%\n"
    }
   },
   "outputs": [],
   "source": [
    "import os\n",
    "from pypdf import PdfReader\n",
    "import docx\n",
    "import faiss\n",
    "from sentence_transformers import SentenceTransformer\n",
    "from transformers import AutoTokenizer, AutoModel\n",
    "import gradio as gr\n",
    "import shutil"
   ]
  },
  {
   "cell_type": "code",
   "execution_count": 2,
   "id": "cdbf3634-2e4a-4590-90b3-25bc63b3bc55",
   "metadata": {
    "tags": [],
    "pycharm": {
     "name": "#%%\n"
    }
   },
   "outputs": [],
   "source": [
    "def get_data(path):\n",
    "    all_content = []\n",
    "    files = os.listdir(path)\n",
    "\n",
    "    for file in files:\n",
    "        pa = os.path.join(path,file)\n",
    "        if pa.endswith('.docx'):\n",
    "            doc = docx.Document(pa)\n",
    "            para = doc.paragraphs\n",
    "            content = [i.text for i in para]\n",
    "            text = \"\"\n",
    "            for con in content:\n",
    "\n",
    "                if(len(con)<=1):\n",
    "                    continue\n",
    "                text += con\n",
    "                if len(text)>=100:\n",
    "                    all_content.append(text)\n",
    "                    text = \"\"\n",
    "            if len(text)>1:\n",
    "                all_content.append(text)\n",
    "\n",
    "            # all_content.append(\"\\n\".join(content))\n",
    "        elif pa.endswith('.pdf'):\n",
    "            # content = \"\"\n",
    "            with open(pa,\"rb\") as f:\n",
    "                pdf_reader = PdfReader(f)\n",
    "\n",
    "                pages_info = pdf_reader.pages\n",
    "                for page_info in pages_info:\n",
    "                    text = page_info.extract_text()\n",
    "                    # content+=text\n",
    "                    all_content.append(text)\n",
    "        elif pa.endswith('.txt'):\n",
    "            with open(pa,'r',encoding='utf8') as f:\n",
    "                all_data = f.read()\n",
    "            all_content.append(all_data)\n",
    "    return all_content\n"
   ]
  },
  {
   "cell_type": "code",
   "execution_count": 3,
   "id": "51f0f3f3-8d02-4536-97f8-bf1d56a6e69b",
   "metadata": {
    "tags": [],
    "pycharm": {
     "name": "#%%\n"
    }
   },
   "outputs": [],
   "source": [
    "class DFaiss:\n",
    "    def __init__(self):\n",
    "        self.sentence_model = SentenceTransformer('paraphrase-multilingual-MiniLM-L12-v2',cache_folder='sen_model')\n",
    "        self.index = faiss.IndexFlatL2(384)\n",
    "        self.text_str_list = []\n",
    "    def add_content(self,strlist):\n",
    "        text_emb = self.get_text_emb(strlist)\n",
    "        self.text_str_list.extend(strlist)\n",
    "        self.index.add(text_emb)\n",
    "    def get_text_emb(self,strlist):\n",
    "        return self.sentence_model.encode(strlist)\n",
    "    def search(self,text):\n",
    "        text_emb = self.get_text_emb([text])\n",
    "        D,I = self.index.search(text_emb,3)\n",
    "        if D[0][0]<15:\n",
    "            return self.text_str_list[I[0][0]]\n",
    "        else:\n",
    "            return \"\""
   ]
  },
  {
   "cell_type": "code",
   "execution_count": 4,
   "id": "460461b1-a2ed-453e-8bde-03b757ad678d",
   "metadata": {
    "tags": [],
    "pycharm": {
     "name": "#%%\n"
    }
   },
   "outputs": [],
   "source": [
    "class prompt_robot():\n",
    "    def __init__(self):\n",
    "        self.myfaiss = DFaiss()\n",
    "        self.tokenizer = AutoTokenizer.from_pretrained(\"../THUDM/chatglm-6b\", trust_remote_code=True)\n",
    "        self.model = AutoModel.from_pretrained(\"../THUDM/chatglm-6b\", trust_remote_code=True).half().cuda()\n",
    "        self.model.eval()\n",
    "        self.history = []\n",
    "    def ask(self,query):\n",
    "        search_result = self.myfaiss.search(query)\n",
    "        if len(search_result)==0:\n",
    "            prompt = query\n",
    "        else:\n",
    "            prompt=f'请根据以下内容回答问题。内容是\"{search_result}\",问题是\"{query}\"。'\n",
    "        # print(f'the prompt is {prompt}')\n",
    "        response, self.history = self.model.chat(self.tokenizer, prompt, history=self.history)\n",
    "        self.history = self.history[-10:]\n",
    "        return response\n",
    "    def add_content(self,strlist):\n",
    "        self.myfaiss.add_content(strlist)"
   ]
  },
  {
   "cell_type": "code",
   "execution_count": 5,
   "id": "4aaa9cfe-76f4-4a7b-ab3f-e22313d5c03f",
   "metadata": {
    "tags": [],
    "pycharm": {
     "name": "#%%\n"
    }
   },
   "outputs": [],
   "source": [
    "def load_file(files,history):\n",
    "    global robot\n",
    "    if os.path.exists('temp'):\n",
    "        shutil.rmtree('temp')\n",
    "    os.mkdir('temp')\n",
    "\n",
    "    for file in files:\n",
    "        n = os.path.basename(file.orig_name)\n",
    "        p = os.path.join('temp',n)\n",
    "        shutil.move(file.name,p)\n",
    "        print('ok')\n",
    "    all_content = get_data('temp')\n",
    "    robot.add_content(all_content)\n",
    "    return history+[[None,'文件加载成功～']]"
   ]
  },
  {
   "cell_type": "code",
   "execution_count": 6,
   "id": "7cf5de97-3bff-4756-b650-d6f63f70d3ac",
   "metadata": {
    "tags": [],
    "pycharm": {
     "name": "#%%\n"
    }
   },
   "outputs": [],
   "source": [
    "def ans(query,history):\n",
    "    global robot\n",
    "    \n",
    "    return history+[[query,robot.ask(query)]]"
   ]
  },
  {
   "cell_type": "code",
   "execution_count": 7,
   "id": "7c97584c-1927-48ab-b4d8-4a6d9cdf8546",
   "metadata": {
    "tags": [],
    "pycharm": {
     "name": "#%%\n"
    }
   },
   "outputs": [],
   "source": [
    "def ans_stream(query,history):\n",
    "    global robot\n",
    "    search_result = robot.myfaiss.search(query)\n",
    "    result = history+[[query,\"\"]]\n",
    "    if len(search_result)==0:\n",
    "        prompt = query\n",
    "    else:\n",
    "        prompt=f'请根据以下内容回答问题。内容是\"{search_result}\",问题是\"{query}\"。'\n",
    "    for res,his in robot.model.stream_chat(robot.tokenizer, prompt, history=[]):\n",
    "        result[-1] = [query,res]\n",
    "        yield result"
   ]
  },
  {
   "cell_type": "code",
   "execution_count": 8,
   "id": "26454c9b-33eb-4812-bb4b-b097c2dae877",
   "metadata": {
    "tags": [],
    "pycharm": {
     "name": "#%%\n"
    }
   },
   "outputs": [
    {
     "name": "stderr",
     "output_type": "stream",
     "text": [
      "Explicitly passing a `revision` is encouraged when loading a model with custom code to ensure no malicious code has been contributed in a newer revision.\n",
      "Explicitly passing a `revision` is encouraged when loading a configuration with custom code to ensure no malicious code has been contributed in a newer revision.\n",
      "Explicitly passing a `revision` is encouraged when loading a model with custom code to ensure no malicious code has been contributed in a newer revision.\n"
     ]
    },
    {
     "data": {
      "application/vnd.jupyter.widget-view+json": {
       "model_id": "b4aafd1bd21649c88e0fef9f5904aad0",
       "version_major": 2,
       "version_minor": 0
      },
      "text/plain": [
       "Loading checkpoint shards:   0%|          | 0/8 [00:00<?, ?it/s]"
      ]
     },
     "metadata": {},
     "output_type": "display_data"
    },
    {
     "name": "stdout",
     "output_type": "stream",
     "text": [
      "Running on local URL:  http://127.0.0.1:6006\n",
      "Running on public URL: https://28d225da72ed562cc8.gradio.live\n",
      "\n",
      "This share link expires in 72 hours. For free permanent hosting and GPU upgrades (NEW!), check out Spaces: https://huggingface.co/spaces\n"
     ]
    },
    {
     "data": {
      "text/html": [
       "<div><iframe src=\"https://28d225da72ed562cc8.gradio.live\" width=\"100%\" height=\"500\" allow=\"autoplay; camera; microphone; clipboard-read; clipboard-write;\" frameborder=\"0\" allowfullscreen></iframe></div>"
      ],
      "text/plain": [
       "<IPython.core.display.HTML object>"
      ]
     },
     "metadata": {},
     "output_type": "display_data"
    }
   ],
   "source": [
    "if __name__ == \"__main__\":\n",
    "    robot = prompt_robot()\n",
    "    with gr.Blocks() as Robot:\n",
    "        with gr.Row():\n",
    "            with gr.Column(scale=3):\n",
    "                chatbot=gr.Chatbot(\n",
    "                    [[None,'这里是zwk机器人']]\n",
    "                ).style(height=600)\n",
    "                query=gr.Textbox(placeholder='请输出问题，回车发送:')\n",
    "            query.submit(ans_stream,inputs=[query,chatbot],outputs=chatbot,show_progress=True)\n",
    "            with gr.Column(scale=1):\n",
    "                file = gr.File(file_count=\"multiple\")\n",
    "                button = gr.Button('加载文件')\n",
    "            button.click(load_file,inputs=[file,chatbot],outputs=chatbot)\n",
    "    Robot.queue().launch(server_name='127.0.0.1',server_port=6006,share=True)\n",
    "    # all_content = get_data('datas')\n",
    "    # robot = prompt_robot()\n",
    "    # robot.add_content(all_content)\n",
    "    # while True:\n",
    "    #     print('----------------------------------')\n",
    "    #     text = input('user:')\n",
    "    #     print(f'robot:{robot.ask(text)}')"
   ]
  },
  {
   "cell_type": "code",
   "execution_count": null,
   "id": "6063f54b-c6ef-4423-a151-5910638db57f",
   "metadata": {
    "pycharm": {
     "name": "#%%\n"
    }
   },
   "outputs": [],
   "source": []
  },
  {
   "cell_type": "code",
   "execution_count": null,
   "id": "9b89abcf-55fb-4a4f-89ee-722599faf12e",
   "metadata": {
    "pycharm": {
     "name": "#%%\n"
    }
   },
   "outputs": [],
   "source": []
  }
 ],
 "metadata": {
  "kernelspec": {
   "display_name": "Python 3 (ipykernel)",
   "language": "python",
   "name": "python3"
  },
  "language_info": {
   "codemirror_mode": {
    "name": "ipython",
    "version": 3
   },
   "file_extension": ".py",
   "mimetype": "text/x-python",
   "name": "python",
   "nbconvert_exporter": "python",
   "pygments_lexer": "ipython3",
   "version": "3.8.10"
  }
 },
 "nbformat": 4,
 "nbformat_minor": 5
}